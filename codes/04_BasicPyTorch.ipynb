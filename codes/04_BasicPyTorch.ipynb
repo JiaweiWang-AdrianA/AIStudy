{
 "cells": [
  {
   "cell_type": "code",
   "execution_count": 1,
   "id": "11f678f3",
   "metadata": {},
   "outputs": [],
   "source": [
    "import torch"
   ]
  },
  {
   "cell_type": "code",
   "execution_count": 2,
   "id": "2e1d9a0b",
   "metadata": {},
   "outputs": [
    {
     "name": "stdout",
     "output_type": "stream",
     "text": [
      "tensor([ 0,  1,  2,  3,  4,  5,  6,  7,  8,  9, 10, 11])\n"
     ]
    }
   ],
   "source": [
    "x = torch.arange(12)\n",
    "print(x)"
   ]
  },
  {
   "cell_type": "code",
   "execution_count": 3,
   "id": "a048b8ad",
   "metadata": {},
   "outputs": [
    {
     "data": {
      "text/plain": [
       "torch.Size([12])"
      ]
     },
     "execution_count": 3,
     "metadata": {},
     "output_type": "execute_result"
    }
   ],
   "source": [
    "x.shape #张量的形状"
   ]
  },
  {
   "cell_type": "code",
   "execution_count": 4,
   "id": "e90be34e",
   "metadata": {},
   "outputs": [
    {
     "data": {
      "text/plain": [
       "12"
      ]
     },
     "execution_count": 4,
     "metadata": {},
     "output_type": "execute_result"
    }
   ],
   "source": [
    "x.numel() #张量的元素个数"
   ]
  },
  {
   "cell_type": "code",
   "execution_count": 5,
   "id": "0c6df501",
   "metadata": {},
   "outputs": [
    {
     "name": "stdout",
     "output_type": "stream",
     "text": [
      "tensor([[ 0,  1,  2,  3],\n",
      "        [ 4,  5,  6,  7],\n",
      "        [ 8,  9, 10, 11]])\n"
     ]
    }
   ],
   "source": [
    "X = x.reshape((3,4)) #改变张量形状\n",
    "print(X)"
   ]
  },
  {
   "cell_type": "code",
   "execution_count": 6,
   "id": "2fcb623a",
   "metadata": {},
   "outputs": [
    {
     "name": "stdout",
     "output_type": "stream",
     "text": [
      "tensor([[[0., 0., 0., 0.],\n",
      "         [0., 0., 0., 0.],\n",
      "         [0., 0., 0., 0.]],\n",
      "\n",
      "        [[0., 0., 0., 0.],\n",
      "         [0., 0., 0., 0.],\n",
      "         [0., 0., 0., 0.]]])\n",
      "tensor([[[1., 1., 1., 1.],\n",
      "         [1., 1., 1., 1.],\n",
      "         [1., 1., 1., 1.]],\n",
      "\n",
      "        [[1., 1., 1., 1.],\n",
      "         [1., 1., 1., 1.],\n",
      "         [1., 1., 1., 1.]]])\n"
     ]
    }
   ],
   "source": [
    "zeros = torch.zeros((2, 3, 4)) #全0张量（形状为2*3*4）\n",
    "print(zeros)\n",
    "ones = torch.ones((2, 3, 4)) #全1张量（形状为2*3*4）\n",
    "print(ones)"
   ]
  },
  {
   "cell_type": "code",
   "execution_count": 7,
   "id": "768f9f3d",
   "metadata": {},
   "outputs": [
    {
     "name": "stdout",
     "output_type": "stream",
     "text": [
      "torch.Size([3, 2, 2])\n",
      "tensor([[[ 1,  2],\n",
      "         [ 3,  4]],\n",
      "\n",
      "        [[ 5,  6],\n",
      "         [ 7,  8]],\n",
      "\n",
      "        [[ 9, 10],\n",
      "         [11, 12]]])\n"
     ]
    }
   ],
   "source": [
    "#通过数组创建张量\n",
    "t = torch.tensor([[[1,2],[3,4]],[[5,6],[7,8]],[[9,10],[11,12]]])\n",
    "print(t.shape)\n",
    "print(t)"
   ]
  },
  {
   "cell_type": "code",
   "execution_count": 8,
   "id": "32e7ac05",
   "metadata": {},
   "outputs": [
    {
     "data": {
      "text/plain": [
       "tensor([2.7183e+00, 7.3891e+00, 5.4598e+01, 2.9810e+03])"
      ]
     },
     "execution_count": 8,
     "metadata": {},
     "output_type": "execute_result"
    }
   ],
   "source": [
    "x = torch.tensor([1.0, 2, 4, 8])\n",
    "y = torch.tensor([2, 2, 2, 2])\n",
    "x+y, x-y, x*y, x/y, x**y\n",
    "torch.exp(x)"
   ]
  },
  {
   "cell_type": "code",
   "execution_count": 9,
   "id": "50d9b813",
   "metadata": {},
   "outputs": [
    {
     "name": "stdout",
     "output_type": "stream",
     "text": [
      "tensor([[ 0.,  1.,  2.,  3.],\n",
      "        [ 4.,  5.,  6.,  7.],\n",
      "        [ 8.,  9., 10., 11.],\n",
      "        [ 0.,  1.,  2.,  3.],\n",
      "        [ 4.,  5.,  6.,  7.],\n",
      "        [ 8.,  9., 10., 11.]])\n",
      "tensor([[ 0.,  1.,  2.,  3.,  0.,  1.,  2.,  3.],\n",
      "        [ 4.,  5.,  6.,  7.,  4.,  5.,  6.,  7.],\n",
      "        [ 8.,  9., 10., 11.,  8.,  9., 10., 11.]])\n"
     ]
    }
   ],
   "source": [
    "X = torch.arange(12, dtype=torch.float32).reshape((3,4))\n",
    "Y = torch.arange(12, dtype=torch.float32).reshape((3,4))\n",
    "Z1 = torch.cat((X,Y), dim=0) #行联结\n",
    "Z2 = torch.cat((X,Y), dim=1) #列联结\n",
    "print(Z1)\n",
    "print(Z2)"
   ]
  },
  {
   "cell_type": "code",
   "execution_count": 10,
   "id": "de2b78d4",
   "metadata": {},
   "outputs": [
    {
     "data": {
      "text/plain": [
       "tensor([[ True, False, False, False],\n",
       "        [False, False, False, False],\n",
       "        [False, False, False, False]])"
      ]
     },
     "execution_count": 10,
     "metadata": {},
     "output_type": "execute_result"
    }
   ],
   "source": [
    "X = torch.arange(12, dtype=torch.float32).reshape((3,4))\n",
    "Y = torch.zeros((3,4))\n",
    "X == Y #按元素判断是否相同"
   ]
  },
  {
   "cell_type": "code",
   "execution_count": 11,
   "id": "fe08e648",
   "metadata": {},
   "outputs": [
    {
     "name": "stdout",
     "output_type": "stream",
     "text": [
      "X: tensor([[ 0.,  1.,  2.,  3.],\n",
      "        [ 4.,  5.,  6.,  7.],\n",
      "        [ 8.,  9., 10., 11.]])\n",
      "sum: tensor(66.)\n",
      "sum(0): tensor([[12., 15., 18., 21.]])\n",
      "sum(1): tensor([[ 6.],\n",
      "        [22.],\n",
      "        [38.]])\n"
     ]
    }
   ],
   "source": [
    "# sum(): 张量求和\n",
    "X = torch.arange(12, dtype=torch.float32).reshape((3,4))\n",
    "s1 = X.sum() #张量按元素求和\n",
    "s2 = X.sum(0, keepdim=True) #张量按列(轴0)求和, keepdim用于保持矩阵的二维特性\n",
    "s3 = X.sum(1, keepdim=True) #张量按行(轴1)求和\n",
    "print('X:', X)\n",
    "print('sum:', s1)\n",
    "print('sum(0):', s2)\n",
    "print('sum(1):', s3)"
   ]
  },
  {
   "cell_type": "code",
   "execution_count": 12,
   "id": "20339873",
   "metadata": {},
   "outputs": [
    {
     "name": "stdout",
     "output_type": "stream",
     "text": [
      "tensor([[[ 0,  1,  2],\n",
      "         [ 3,  4,  5]],\n",
      "\n",
      "        [[ 6,  7,  8],\n",
      "         [ 9, 10, 11]],\n",
      "\n",
      "        [[12, 13, 14],\n",
      "         [15, 16, 17]],\n",
      "\n",
      "        [[18, 19, 20],\n",
      "         [21, 22, 23]]])\n",
      "tensor([[0, 1, 2]])\n",
      "tensor([[[ 0,  2,  4],\n",
      "         [ 3,  5,  7]],\n",
      "\n",
      "        [[ 6,  8, 10],\n",
      "         [ 9, 11, 13]],\n",
      "\n",
      "        [[12, 14, 16],\n",
      "         [15, 17, 19]],\n",
      "\n",
      "        [[18, 20, 22],\n",
      "         [21, 23, 25]]])\n",
      "tensor([[[ 0,  1,  4],\n",
      "         [ 0,  4, 10]],\n",
      "\n",
      "        [[ 0,  7, 16],\n",
      "         [ 0, 10, 22]],\n",
      "\n",
      "        [[ 0, 13, 28],\n",
      "         [ 0, 16, 34]],\n",
      "\n",
      "        [[ 0, 19, 40],\n",
      "         [ 0, 22, 46]]])\n",
      "x: tensor([[[ 0,  1,  2],\n",
      "         [ 3,  4,  5]],\n",
      "\n",
      "        [[ 6,  7,  8],\n",
      "         [ 9, 10, 11]],\n",
      "\n",
      "        [[12, 13, 14],\n",
      "         [15, 16, 17]],\n",
      "\n",
      "        [[18, 19, 20],\n",
      "         [21, 22, 23]]])\n",
      "y: tensor([0, 1, 2])\n",
      "x+y: tensor([[[ 0,  2,  4],\n",
      "         [ 3,  5,  7]],\n",
      "\n",
      "        [[ 6,  8, 10],\n",
      "         [ 9, 11, 13]],\n",
      "\n",
      "        [[12, 14, 16],\n",
      "         [15, 17, 19]],\n",
      "\n",
      "        [[18, 20, 22],\n",
      "         [21, 23, 25]]])\n",
      "x*y: tensor([[[ 0,  1,  4],\n",
      "         [ 0,  4, 10]],\n",
      "\n",
      "        [[ 0,  7, 16],\n",
      "         [ 0, 10, 22]],\n",
      "\n",
      "        [[ 0, 13, 28],\n",
      "         [ 0, 16, 34]],\n",
      "\n",
      "        [[ 0, 19, 40],\n",
      "         [ 0, 22, 46]]])\n"
     ]
    }
   ],
   "source": [
    "# 广播机制(broadcasting mechanism): 不同形状的张量运算\n",
    "# 若x的形状是m_1*m_2*...*m_y*...*m_x, 且y的形状是\n",
    "# (1) m_y*...*m_x\n",
    "# (2) 1*m_x\n",
    "# 则张量x和y可以进行计算\n",
    "\n",
    "# example1: x(4*2*3),y(1*3)\n",
    "x = torch.arange(24).reshape((4,2,3))\n",
    "y = torch.arange(3).reshape((1,3))\n",
    "print(x)\n",
    "print(y)\n",
    "print(x+y)\n",
    "print(x*y)\n",
    "# example2: x(4*2*3),y(2*3)\n",
    "x = torch.arange(24).reshape((4,2,3))\n",
    "y = torch.arange(3).reshape((3))\n",
    "print('x:', x)\n",
    "print('y:', y)\n",
    "print('x+y:', x+y)\n",
    "print('x*y:', x*y)"
   ]
  },
  {
   "cell_type": "code",
   "execution_count": 13,
   "id": "1defbf68",
   "metadata": {},
   "outputs": [
    {
     "name": "stdout",
     "output_type": "stream",
     "text": [
      "True False\n"
     ]
    }
   ],
   "source": [
    "# 对原始张量的内存执行原地操作\n",
    "X = torch.arange(12).reshape((3,4))\n",
    "Y = torch.arange(12).reshape((3,4))\n",
    "Z = torch.zeros_like(Y)\n",
    "id_z_ori = id(Z)\n",
    "Z[:] = X + Y #对每个元素执行操作，不重新存储\n",
    "id_z_insitu = id(Z)\n",
    "Z = X + Y #直接执行相加操作，重新存储\n",
    "id_z_diradd = id(Z)\n",
    "\n",
    "print(id_z_ori == id_z_insitu, id_z_ori == id_z_diradd)"
   ]
  },
  {
   "cell_type": "code",
   "execution_count": 14,
   "id": "d115d3b4",
   "metadata": {},
   "outputs": [
    {
     "name": "stdout",
     "output_type": "stream",
     "text": [
      "numpy:\n",
      " [[ 0  1  2  3]\n",
      " [ 4  5  6  7]\n",
      " [ 8  9 10 11]]\n",
      "tensor:\n",
      " tensor([[ 0,  1,  2,  3],\n",
      "        [ 4,  5,  6,  7],\n",
      "        [ 8,  9, 10, 11]])\n"
     ]
    }
   ],
   "source": [
    "# 与Numpy张量相互转换\n",
    "X = torch.arange(12).reshape((3,4))\n",
    "Y1 = X.numpy() #转换为numpy\n",
    "Y2 = torch.tensor(Y1)  #转换为tensor\n",
    "print('numpy:\\n', Y1)\n",
    "print('tensor:\\n', Y2)"
   ]
  },
  {
   "cell_type": "code",
   "execution_count": null,
   "id": "329f43d7",
   "metadata": {},
   "outputs": [],
   "source": []
  }
 ],
 "metadata": {
  "kernelspec": {
   "display_name": "Python 3",
   "language": "python",
   "name": "python3"
  },
  "language_info": {
   "codemirror_mode": {
    "name": "ipython",
    "version": 3
   },
   "file_extension": ".py",
   "mimetype": "text/x-python",
   "name": "python",
   "nbconvert_exporter": "python",
   "pygments_lexer": "ipython3",
   "version": "3.8.8"
  }
 },
 "nbformat": 4,
 "nbformat_minor": 5
}
